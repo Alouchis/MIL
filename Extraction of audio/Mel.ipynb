{
 "cells": [
  {
   "cell_type": "markdown",
   "id": "7bb93962",
   "metadata": {},
   "source": [
    "# The Mel Scale:\n",
    "The human ear doesn't perceive sound frequency lineary: at high frequencies, we need larger differences to notice a change.\n",
    "That's why we use the Mel scale, to compress high frequencies and to stretch low ones and get an approximation of this sound percepetion, thanks to the logarithmic fatcor.\n",
    "$$Mel(f)=2595\\cdot\\log_{10}(1+\\frac{f}{700}) \\qquad\\textrm{(approximately)}   $$\n",
    "\n",
    "That's why, instead of using raw waveforms or spectograms, we convert audio into **Mel spectrograms** or **MFCCs (Mel-Frequency Cepstral Coefficients).**"
   ]
  }
 ],
 "metadata": {
  "language_info": {
   "name": "python"
  }
 },
 "nbformat": 4,
 "nbformat_minor": 5
}
